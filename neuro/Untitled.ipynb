{
 "cells": [
  {
   "cell_type": "code",
   "execution_count": 156,
   "metadata": {},
   "outputs": [],
   "source": [
    "from math import exp\n",
    "from random import uniform"
   ]
  },
  {
   "cell_type": "code",
   "execution_count": 113,
   "metadata": {},
   "outputs": [],
   "source": [
    "def sigmoid(x):\n",
    "    return 1 / (1 + exp(-x))"
   ]
  },
  {
   "cell_type": "code",
   "execution_count": 114,
   "metadata": {},
   "outputs": [],
   "source": [
    "def get_deltaW(grad, last_deltaW):\n",
    "    E = 0.7 #speed of learning\n",
    "\n",
    "    A = 0.3 #moment\n",
    "    \n",
    "    return E * grad + A * last_deltaW"
   ]
  },
  {
   "cell_type": "code",
   "execution_count": 166,
   "metadata": {},
   "outputs": [],
   "source": [
    "class InputNeuro:\n",
    "    \n",
    "    def __init__(self, value, weights):\n",
    "        self.__value = value\n",
    "        self.__weights = weights\n",
    "        self.__deltaW = [0]\n",
    "        \n",
    "    def __repr__(self):\n",
    "        return '''\n",
    "        Value: {},\n",
    "        Weights: {},\n",
    "        Deltas W: \n",
    "        '''.format(self.__value, self.__weights, self.__deltaW)\n",
    "    \n",
    "    def get_value(self):\n",
    "        return self.__value\n",
    "    \n",
    "    def get_weight(self, hidden_neuro_index):\n",
    "        return self.__weights[hidden_neuro_index]\n",
    "    \n",
    "    def set_weight(self, hidden_neuro_index, weight):\n",
    "        self.__weights[hidden_neuro_index] = weight\n",
    "    \n",
    "    def get_last_deltaW(self):\n",
    "        return self.__deltaW[-1]\n",
    "        \n",
    "    def add_new_deltaW(self, deltaW):\n",
    "        self.__deltaW.append(deltaW)\n"
   ]
  },
  {
   "cell_type": "code",
   "execution_count": 116,
   "metadata": {},
   "outputs": [],
   "source": [
    "class HiddenNeuro:\n",
    "\n",
    "    def __init__(self, index, neurons, weight, activation_func):\n",
    "        self.index = index\n",
    "        self.neurons = neurons\n",
    "        self.__weight = weight\n",
    "        self.activation_func = activation_func\n",
    "        self.__delta = 0\n",
    "        self.__deltaW = [0]\n",
    "    \n",
    "    def get_value(self):\n",
    "        input_sum = self.__get_sum()\n",
    "        return self.activation_func(input_sum)\n",
    "    \n",
    "    def get_weight(self):\n",
    "        return self.__weight\n",
    "    \n",
    "    def set_weight(self, weight):\n",
    "        self.__weight = weight\n",
    "    \n",
    "    def get_delta(self):\n",
    "        return self.__delta\n",
    "    \n",
    "    def set_delta(self, delta):\n",
    "        self.__delta = delta\n",
    "        \n",
    "    def get_last_deltaW(self):\n",
    "        return self.__deltaW[-1]\n",
    "        \n",
    "    def add_new_deltaW(self, deltaW):\n",
    "        self.__deltaW.append(deltaW)\n",
    "    \n",
    "    def __get_sum(self):\n",
    "        input_sum = 0\n",
    "        for neuro in self.neurons:\n",
    "            input_sum += neuro.get_value() * neuro.get_weight(self.index)\n",
    "        return input_sum"
   ]
  },
  {
   "cell_type": "code",
   "execution_count": 143,
   "metadata": {},
   "outputs": [],
   "source": [
    "class OutputNeuro:\n",
    "    \n",
    "    def __init__(self, neurons, activation_func):\n",
    "        self.neurons = neurons\n",
    "        self.activation_func = activation_func\n",
    "        self.__delta = 0\n",
    "        self.__deltaW = [0]\n",
    "        \n",
    "    def get_value(self):\n",
    "        input_sum = self.__get_sum()\n",
    "        return self.activation_func(input_sum)\n",
    "    \n",
    "    def __get_sum(self):\n",
    "        input_sum = 0\n",
    "        for neuro in self.neurons:\n",
    "            input_sum += neuro.get_value() * neuro.get_weight()\n",
    "        return input_sum\n",
    "    \n",
    "    def get_delta(self):\n",
    "        return self.__delta\n",
    "    \n",
    "    def set_delta(self, delta):\n",
    "        self.__delta = delta\n",
    "    \n",
    "    def get_last_deltaW(self):\n",
    "        return self.__deltaW[-1]\n",
    "    \n",
    "    def add_new_deltaW(self, deltaW):\n",
    "        self.__deltaW.append(deltaW)\n",
    "        \n",
    "    def get_error(self, correct_answer):\n",
    "        return (self.get_value() - correct_answer) ** 2"
   ]
  },
  {
   "cell_type": "code",
   "execution_count": 153,
   "metadata": {},
   "outputs": [],
   "source": [
    "input_neurons = [InputNeuro(1, [0.45, 0.78]), InputNeuro(0, [-0.12, 0.13])]\n",
    "hidden_neurons = [\n",
    "    HiddenNeuro(0, input_neurons, 1.5, sigmoid),\n",
    "    HiddenNeuro(1, input_neurons, -2.3, sigmoid)           \n",
    "                 ]\n",
    "output_neuron = OutputNeuro(hidden_neurons, sigmoid)"
   ]
  },
  {
   "cell_type": "code",
   "execution_count": 154,
   "metadata": {},
   "outputs": [],
   "source": [
    "while output_neuron.get_error(answer) > accuracy ** 2:\n",
    "    output_neuron.set_delta((answer - on1.value()) * ((answer - on1.value()) * on1.value()))\n",
    "    for hidden_neuron in hidden_neurons:\n",
    "        new_delta = ((1 - hidden_neuron.get_value()) * hidden_neuron.get_value()) * (hidden_neuron.get_weight() * output_neuron.get_delta())\n",
    "        hidden_neuron.set_delta(new_delta)\n",
    "        grad = output_neuron.get_delta() * hidden_neuron.get_value()\n",
    "        deltaW = get_deltaW(grad, hidden_neuron.get_last_deltaW())\n",
    "        hidden_neuron.set_weight(hidden_neuron.get_weight() + deltaW)\n",
    "        hidden_neuron.add_new_deltaW(deltaW)\n",
    "    for input_neuron in input_neurons:\n",
    "        for idx, hidden_neuron in enumerate(hidden_neurons):\n",
    "            deltaH = hidden_neuron.get_delta()\n",
    "            grad = input_neuron.get_value() * deltaH\n",
    "            deltaW = get_deltaW(grad, input_neuron.get_last_deltaW())\n",
    "            input_neuron.set_weight(idx, input_neuron.get_weight(idx) + deltaW)\n",
    "            input_neuron.add_new_deltaW(deltaW)"
   ]
  },
  {
   "cell_type": "code",
   "execution_count": 155,
   "metadata": {},
   "outputs": [
    {
     "data": {
      "text/plain": [
       "0.9999138197968985"
      ]
     },
     "execution_count": 155,
     "metadata": {},
     "output_type": "execute_result"
    }
   ],
   "source": [
    "output_neuron.get_value()"
   ]
  },
  {
   "cell_type": "code",
   "execution_count": 171,
   "metadata": {},
   "outputs": [],
   "source": [
    "def train_neural_network(input_values, answer, accuracy=0.0001, hidden_neurons_count=2):\n",
    "    # init with random weights\n",
    "    input_neurons = [InputNeuro(value, [uniform(-0.5, 0.5) for _ in range(hidden_neurons_count)]) for value in input_values]\n",
    "    hidden_neurons = [HiddenNeuro(i, input_neurons, uniform(-0.5, 0.5), sigmoid) for i in range(hidden_neurons_count)]\n",
    "    output_neuron = OutputNeuro(hidden_neurons, sigmoid)\n",
    "    era = 1\n",
    "    \n",
    "    #train\n",
    "    while output_neuron.get_error(answer) > accuracy ** 2:\n",
    "        output_neuron.set_delta((answer - on1.value()) * ((answer - on1.value()) * on1.value()))\n",
    "        for hidden_neuron in hidden_neurons:\n",
    "            new_delta = ((1 - hidden_neuron.get_value()) * hidden_neuron.get_value()) * (hidden_neuron.get_weight() * output_neuron.get_delta())\n",
    "            hidden_neuron.set_delta(new_delta)\n",
    "            grad = output_neuron.get_delta() * hidden_neuron.get_value()\n",
    "            deltaW = get_deltaW(grad, hidden_neuron.get_last_deltaW())\n",
    "            hidden_neuron.set_weight(hidden_neuron.get_weight() + deltaW)\n",
    "            hidden_neuron.add_new_deltaW(deltaW)\n",
    "        for input_neuron in input_neurons:\n",
    "            for idx, hidden_neuron in enumerate(hidden_neurons):\n",
    "                deltaH = hidden_neuron.get_delta()\n",
    "                grad = input_neuron.get_value() * deltaH\n",
    "                deltaW = get_deltaW(grad, input_neuron.get_last_deltaW())\n",
    "                input_neuron.set_weight(idx, input_neuron.get_weight(idx) + deltaW)\n",
    "                input_neuron.add_new_deltaW(deltaW)\n",
    "        era += 1\n",
    "    print('Answer: ', output_neuron.get_value())\n",
    "    print('Error: ', output_neuron.get_error(answer))\n",
    "    print('Eras: ', era)"
   ]
  },
  {
   "cell_type": "code",
   "execution_count": 173,
   "metadata": {},
   "outputs": [
    {
     "name": "stdout",
     "output_type": "stream",
     "text": [
      "Answer:  0.9991952055834477\n",
      "Error:  6.476940529138306e-07\n",
      "Eras:  31\n"
     ]
    }
   ],
   "source": [
    "train_neural_network([0, 1], 1, 0.001, 3)"
   ]
  },
  {
   "cell_type": "code",
   "execution_count": null,
   "metadata": {},
   "outputs": [],
   "source": []
  }
 ],
 "metadata": {
  "kernelspec": {
   "display_name": "Python 3",
   "language": "python",
   "name": "python3"
  },
  "language_info": {
   "codemirror_mode": {
    "name": "ipython",
    "version": 3
   },
   "file_extension": ".py",
   "mimetype": "text/x-python",
   "name": "python",
   "nbconvert_exporter": "python",
   "pygments_lexer": "ipython3",
   "version": "3.7.5"
  }
 },
 "nbformat": 4,
 "nbformat_minor": 2
}
