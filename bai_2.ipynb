{
 "cells": [
  {
   "cell_type": "code",
   "execution_count": 272,
   "metadata": {},
   "outputs": [],
   "source": [
    "import pandas as pd\n",
    "import numpy as np\n",
    "import matplotlib.pylab as plt\n",
    "\n",
    "\n",
    "X = np.array([0, 1, 2, 3, 4, 5])\n",
    "Y = np.array([3.2, 7.8, 15.3, 23.6, 35.5, 47.5])"
   ]
  },
  {
   "cell_type": "code",
   "execution_count": 273,
   "metadata": {},
   "outputs": [
    {
     "data": {
      "text/html": [
       "<style  type=\"text/css\" >\n",
       "    #T_3f2616b6_771f_11ea_989c_0be65a50beecrow5_col2 {\n",
       "            background-color:  #90ee90;\n",
       "        }    #T_3f2616b6_771f_11ea_989c_0be65a50beecrow5_col3 {\n",
       "            background-color:  #90ee90;\n",
       "        }    #T_3f2616b6_771f_11ea_989c_0be65a50beecrow5_col4 {\n",
       "            background-color:  #90ee90;\n",
       "        }    #T_3f2616b6_771f_11ea_989c_0be65a50beecrow5_col5 {\n",
       "            background-color:  #90ee90;\n",
       "        }    #T_3f2616b6_771f_11ea_989c_0be65a50beecrow5_col6 {\n",
       "            background-color:  #90ee90;\n",
       "        }</style><table id=\"T_3f2616b6_771f_11ea_989c_0be65a50beec\" ><thead>    <tr>        <th class=\"blank level0\" ></th>        <th class=\"col_heading level0 col0\" >xt</th>        <th class=\"col_heading level0 col1\" >yt</th>        <th class=\"col_heading level0 col2\" >dyt</th>        <th class=\"col_heading level0 col3\" >ln(dyt)</th>        <th class=\"col_heading level0 col4\" >dxt</th>        <th class=\"col_heading level0 col5\" >dxt^2</th>        <th class=\"col_heading level0 col6\" >xt*ln(dyt)</th>    </tr></thead><tbody>\n",
       "                <tr>\n",
       "                        <th id=\"T_3f2616b6_771f_11ea_989c_0be65a50beeclevel0_row0\" class=\"row_heading level0 row0\" >0</th>\n",
       "                        <td id=\"T_3f2616b6_771f_11ea_989c_0be65a50beecrow0_col0\" class=\"data row0 col0\" >0</td>\n",
       "                        <td id=\"T_3f2616b6_771f_11ea_989c_0be65a50beecrow0_col1\" class=\"data row0 col1\" >3.2</td>\n",
       "                        <td id=\"T_3f2616b6_771f_11ea_989c_0be65a50beecrow0_col2\" class=\"data row0 col2\" >4.6</td>\n",
       "                        <td id=\"T_3f2616b6_771f_11ea_989c_0be65a50beecrow0_col3\" class=\"data row0 col3\" >1.52606</td>\n",
       "                        <td id=\"T_3f2616b6_771f_11ea_989c_0be65a50beecrow0_col4\" class=\"data row0 col4\" >0.5</td>\n",
       "                        <td id=\"T_3f2616b6_771f_11ea_989c_0be65a50beecrow0_col5\" class=\"data row0 col5\" >0.25</td>\n",
       "                        <td id=\"T_3f2616b6_771f_11ea_989c_0be65a50beecrow0_col6\" class=\"data row0 col6\" >0.763028</td>\n",
       "            </tr>\n",
       "            <tr>\n",
       "                        <th id=\"T_3f2616b6_771f_11ea_989c_0be65a50beeclevel0_row1\" class=\"row_heading level0 row1\" >1</th>\n",
       "                        <td id=\"T_3f2616b6_771f_11ea_989c_0be65a50beecrow1_col0\" class=\"data row1 col0\" >1</td>\n",
       "                        <td id=\"T_3f2616b6_771f_11ea_989c_0be65a50beecrow1_col1\" class=\"data row1 col1\" >7.8</td>\n",
       "                        <td id=\"T_3f2616b6_771f_11ea_989c_0be65a50beecrow1_col2\" class=\"data row1 col2\" >7.5</td>\n",
       "                        <td id=\"T_3f2616b6_771f_11ea_989c_0be65a50beecrow1_col3\" class=\"data row1 col3\" >2.0149</td>\n",
       "                        <td id=\"T_3f2616b6_771f_11ea_989c_0be65a50beecrow1_col4\" class=\"data row1 col4\" >1.5</td>\n",
       "                        <td id=\"T_3f2616b6_771f_11ea_989c_0be65a50beecrow1_col5\" class=\"data row1 col5\" >2.25</td>\n",
       "                        <td id=\"T_3f2616b6_771f_11ea_989c_0be65a50beecrow1_col6\" class=\"data row1 col6\" >3.02235</td>\n",
       "            </tr>\n",
       "            <tr>\n",
       "                        <th id=\"T_3f2616b6_771f_11ea_989c_0be65a50beeclevel0_row2\" class=\"row_heading level0 row2\" >2</th>\n",
       "                        <td id=\"T_3f2616b6_771f_11ea_989c_0be65a50beecrow2_col0\" class=\"data row2 col0\" >2</td>\n",
       "                        <td id=\"T_3f2616b6_771f_11ea_989c_0be65a50beecrow2_col1\" class=\"data row2 col1\" >15.3</td>\n",
       "                        <td id=\"T_3f2616b6_771f_11ea_989c_0be65a50beecrow2_col2\" class=\"data row2 col2\" >8.3</td>\n",
       "                        <td id=\"T_3f2616b6_771f_11ea_989c_0be65a50beecrow2_col3\" class=\"data row2 col3\" >2.11626</td>\n",
       "                        <td id=\"T_3f2616b6_771f_11ea_989c_0be65a50beecrow2_col4\" class=\"data row2 col4\" >2.5</td>\n",
       "                        <td id=\"T_3f2616b6_771f_11ea_989c_0be65a50beecrow2_col5\" class=\"data row2 col5\" >6.25</td>\n",
       "                        <td id=\"T_3f2616b6_771f_11ea_989c_0be65a50beecrow2_col6\" class=\"data row2 col6\" >5.29064</td>\n",
       "            </tr>\n",
       "            <tr>\n",
       "                        <th id=\"T_3f2616b6_771f_11ea_989c_0be65a50beeclevel0_row3\" class=\"row_heading level0 row3\" >3</th>\n",
       "                        <td id=\"T_3f2616b6_771f_11ea_989c_0be65a50beecrow3_col0\" class=\"data row3 col0\" >3</td>\n",
       "                        <td id=\"T_3f2616b6_771f_11ea_989c_0be65a50beecrow3_col1\" class=\"data row3 col1\" >23.6</td>\n",
       "                        <td id=\"T_3f2616b6_771f_11ea_989c_0be65a50beecrow3_col2\" class=\"data row3 col2\" >11.9</td>\n",
       "                        <td id=\"T_3f2616b6_771f_11ea_989c_0be65a50beecrow3_col3\" class=\"data row3 col3\" >2.47654</td>\n",
       "                        <td id=\"T_3f2616b6_771f_11ea_989c_0be65a50beecrow3_col4\" class=\"data row3 col4\" >3.5</td>\n",
       "                        <td id=\"T_3f2616b6_771f_11ea_989c_0be65a50beecrow3_col5\" class=\"data row3 col5\" >12.25</td>\n",
       "                        <td id=\"T_3f2616b6_771f_11ea_989c_0be65a50beecrow3_col6\" class=\"data row3 col6\" >8.66788</td>\n",
       "            </tr>\n",
       "            <tr>\n",
       "                        <th id=\"T_3f2616b6_771f_11ea_989c_0be65a50beeclevel0_row4\" class=\"row_heading level0 row4\" >4</th>\n",
       "                        <td id=\"T_3f2616b6_771f_11ea_989c_0be65a50beecrow4_col0\" class=\"data row4 col0\" >4</td>\n",
       "                        <td id=\"T_3f2616b6_771f_11ea_989c_0be65a50beecrow4_col1\" class=\"data row4 col1\" >35.5</td>\n",
       "                        <td id=\"T_3f2616b6_771f_11ea_989c_0be65a50beecrow4_col2\" class=\"data row4 col2\" >12</td>\n",
       "                        <td id=\"T_3f2616b6_771f_11ea_989c_0be65a50beecrow4_col3\" class=\"data row4 col3\" >2.48491</td>\n",
       "                        <td id=\"T_3f2616b6_771f_11ea_989c_0be65a50beecrow4_col4\" class=\"data row4 col4\" >4.5</td>\n",
       "                        <td id=\"T_3f2616b6_771f_11ea_989c_0be65a50beecrow4_col5\" class=\"data row4 col5\" >20.25</td>\n",
       "                        <td id=\"T_3f2616b6_771f_11ea_989c_0be65a50beecrow4_col6\" class=\"data row4 col6\" >11.1821</td>\n",
       "            </tr>\n",
       "            <tr>\n",
       "                        <th id=\"T_3f2616b6_771f_11ea_989c_0be65a50beeclevel0_row5\" class=\"row_heading level0 row5\" >5</th>\n",
       "                        <td id=\"T_3f2616b6_771f_11ea_989c_0be65a50beecrow5_col0\" class=\"data row5 col0\" >5</td>\n",
       "                        <td id=\"T_3f2616b6_771f_11ea_989c_0be65a50beecrow5_col1\" class=\"data row5 col1\" >47.5</td>\n",
       "                        <td id=\"T_3f2616b6_771f_11ea_989c_0be65a50beecrow5_col2\" class=\"data row5 col2\" >sum:</td>\n",
       "                        <td id=\"T_3f2616b6_771f_11ea_989c_0be65a50beecrow5_col3\" class=\"data row5 col3\" >10.6187</td>\n",
       "                        <td id=\"T_3f2616b6_771f_11ea_989c_0be65a50beecrow5_col4\" class=\"data row5 col4\" >12.5</td>\n",
       "                        <td id=\"T_3f2616b6_771f_11ea_989c_0be65a50beecrow5_col5\" class=\"data row5 col5\" >41.25</td>\n",
       "                        <td id=\"T_3f2616b6_771f_11ea_989c_0be65a50beecrow5_col6\" class=\"data row5 col6\" >28.926</td>\n",
       "            </tr>\n",
       "    </tbody></table>"
      ],
      "text/plain": [
       "<pandas.io.formats.style.Styler at 0x7fb3fedd4cd0>"
      ]
     },
     "execution_count": 273,
     "metadata": {},
     "output_type": "execute_result"
    }
   ],
   "source": [
    "calculation_data = {\n",
    "    'xt': X,\n",
    "    'yt': Y,\n",
    "    'dyt': [np.nan] * len(X),\n",
    "    'ln(dyt)': [np.nan] * len(X),\n",
    "    'dxt': [np.nan] * len(X),\n",
    "    'dxt^2': [np.nan] * len(X),\n",
    "    'xt*ln(dyt)': [np.nan] * len(X)\n",
    "}\n",
    "\n",
    "calculation_df = pd.DataFrame.from_dict(calculation_data)\n",
    "calculation_df['dyt'] = calculation_df['yt'].diff().shift(-1)\n",
    "for i in range(calculation_df.shape[0] - 1):\n",
    "    calculation_df.loc[i, 'dxt'] = (calculation_df.loc[i, 'xt'] + calculation_df.loc[i+1, 'xt']) / 2\n",
    "calculation_df['ln(dyt)'] = np.log(calculation_df['dyt'])\n",
    "calculation_df['dxt^2'] = np.power(calculation_df['dxt'], 2)\n",
    "calculation_df['xt*ln(dyt)'] = calculation_df['dxt'] * calculation_df['ln(dyt)']\n",
    "calculation_df.loc[5, 'dyt'] = 'sum:'\n",
    "calculation_df.loc[5, 'ln(dyt)'] = calculation_df['ln(dyt)'].sum()\n",
    "calculation_df.loc[5, 'dxt'] = calculation_df['dxt'].sum()\n",
    "calculation_df.loc[5, 'dxt^2'] = calculation_df['dxt^2'].sum()\n",
    "calculation_df.loc[5, 'xt*ln(dyt)'] = calculation_df['xt*ln(dyt)'].sum()\n",
    "calculation_df.style.applymap(lambda x: 'background-color: #90ee90', subset=pd.IndexSlice[5, 'dyt':'xt*ln(dyt)'])"
   ]
  },
  {
   "cell_type": "code",
   "execution_count": 274,
   "metadata": {},
   "outputs": [
    {
     "name": "stdout",
     "output_type": "stream",
     "text": [
      "Equantions:\n",
      "5a + 12.5b = 10.61865988874535\n",
      "12.5a + 41.25b = 28.9259857940245\n",
      "\n",
      "A = exp(a) / B, B = b\n"
     ]
    }
   ],
   "source": [
    "print('Equantions:')\n",
    "print('{}a + {}b = {}'.format(calculation_df.shape[0] - 1,\n",
    "                              calculation_df.loc[5, 'dxt'],\n",
    "                              calculation_df.loc[5, 'ln(dyt)']\n",
    "                             ))\n",
    "print('{}a + {}b = {}'.format(calculation_df.loc[5, 'dxt'],\n",
    "                              calculation_df.loc[5, 'dxt^2'],\n",
    "                              calculation_df.loc[5, 'xt*ln(dyt)']\n",
    "                             ))\n",
    "print()\n",
    "print('A = exp(a) / B, B = b')"
   ]
  },
  {
   "cell_type": "code",
   "execution_count": 275,
   "metadata": {},
   "outputs": [],
   "source": [
    "a, b = np.linalg.solve([\n",
    "    [calculation_df.shape[0] - 1, calculation_df.loc[5, 'dxt']],\n",
    "    [calculation_df.loc[5, 'dxt'], calculation_df.loc[5, 'dxt^2']]\n",
    "], [\n",
    "    calculation_df.loc[5, 'ln(dyt)'],\n",
    "    calculation_df.loc[5, 'xt*ln(dyt)']\n",
    "])"
   ]
  },
  {
   "cell_type": "code",
   "execution_count": 276,
   "metadata": {},
   "outputs": [
    {
     "name": "stdout",
     "output_type": "stream",
     "text": [
      "A = 19.38814050980623, B = 0.23793360721611245\n"
     ]
    }
   ],
   "source": [
    "A = exp(a) / b\n",
    "B = b\n",
    "print('A = {}, B = {}'.format(A, B))"
   ]
  },
  {
   "cell_type": "code",
   "execution_count": 252,
   "metadata": {},
   "outputs": [
    {
     "data": {
      "text/html": [
       "<div>\n",
       "<style scoped>\n",
       "    .dataframe tbody tr th:only-of-type {\n",
       "        vertical-align: middle;\n",
       "    }\n",
       "\n",
       "    .dataframe tbody tr th {\n",
       "        vertical-align: top;\n",
       "    }\n",
       "\n",
       "    .dataframe thead th {\n",
       "        text-align: right;\n",
       "    }\n",
       "</style>\n",
       "<table border=\"1\" class=\"dataframe\">\n",
       "  <thead>\n",
       "    <tr style=\"text-align: right;\">\n",
       "      <th></th>\n",
       "      <th>X</th>\n",
       "      <th>A*exp(Bx)</th>\n",
       "      <th>y - y*</th>\n",
       "    </tr>\n",
       "  </thead>\n",
       "  <tbody>\n",
       "    <tr>\n",
       "      <th>0</th>\n",
       "      <td>0</td>\n",
       "      <td>19.388141</td>\n",
       "      <td>-16.188141</td>\n",
       "    </tr>\n",
       "    <tr>\n",
       "      <th>1</th>\n",
       "      <td>1</td>\n",
       "      <td>24.596279</td>\n",
       "      <td>-16.796279</td>\n",
       "    </tr>\n",
       "    <tr>\n",
       "      <th>2</th>\n",
       "      <td>2</td>\n",
       "      <td>31.203454</td>\n",
       "      <td>-15.903454</td>\n",
       "    </tr>\n",
       "    <tr>\n",
       "      <th>3</th>\n",
       "      <td>3</td>\n",
       "      <td>39.585480</td>\n",
       "      <td>-15.985480</td>\n",
       "    </tr>\n",
       "    <tr>\n",
       "      <th>4</th>\n",
       "      <td>4</td>\n",
       "      <td>50.219128</td>\n",
       "      <td>-14.719128</td>\n",
       "    </tr>\n",
       "    <tr>\n",
       "      <th>5</th>\n",
       "      <td>5</td>\n",
       "      <td>63.709240</td>\n",
       "      <td>-16.209240</td>\n",
       "    </tr>\n",
       "  </tbody>\n",
       "</table>\n",
       "</div>"
      ],
      "text/plain": [
       "   X  A*exp(Bx)     y - y*\n",
       "0  0  19.388141 -16.188141\n",
       "1  1  24.596279 -16.796279\n",
       "2  2  31.203454 -15.903454\n",
       "3  3  39.585480 -15.985480\n",
       "4  4  50.219128 -14.719128\n",
       "5  5  63.709240 -16.209240"
      ]
     },
     "execution_count": 252,
     "metadata": {},
     "output_type": "execute_result"
    }
   ],
   "source": [
    "calculate_c_data = {\n",
    "    'X': X,\n",
    "    'A*exp(Bx)': A * np.exp(B * X),\n",
    "    'y - y*': calculation_df['yt'] - A * np.exp(B * X)\n",
    "}\n",
    "\n",
    "calculate_c_df = pd.DataFrame.from_dict(calculate_c_data)\n",
    "calculate_c_df"
   ]
  },
  {
   "cell_type": "code",
   "execution_count": 253,
   "metadata": {},
   "outputs": [
    {
     "data": {
      "text/plain": [
       "-15.966953505974862"
      ]
     },
     "execution_count": 253,
     "metadata": {},
     "output_type": "execute_result"
    }
   ],
   "source": [
    "C = calculate_c_df['y - y*'].sum() / calculate_c_df.shape[0]\n",
    "C"
   ]
  },
  {
   "cell_type": "code",
   "execution_count": 254,
   "metadata": {},
   "outputs": [
    {
     "name": "stdout",
     "output_type": "stream",
     "text": [
      "Function is 19.38814050980623 * e^(0.23793360721611245 * x) + (-15.966953505974862)\n"
     ]
    }
   ],
   "source": [
    "print('Function is {} * e^({} * x) + ({})'.format(A, B, C))"
   ]
  },
  {
   "cell_type": "code",
   "execution_count": 257,
   "metadata": {},
   "outputs": [
    {
     "data": {
      "text/plain": [
       "<matplotlib.legend.Legend at 0x7fb3fed29d50>"
      ]
     },
     "execution_count": 257,
     "metadata": {},
     "output_type": "execute_result"
    },
    {
     "data": {
      "image/png": "[encoded data removed]",
      "text/plain": [
       "<Figure size 432x288 with 1 Axes>"
      ]
     },
     "metadata": {
      "needs_background": "light"
     },
     "output_type": "display_data"
    }
   ],
   "source": [
    "plt.title('Function plot')\n",
    "plt.xlabel('x')\n",
    "plt.ylabocel('y')\n",
    "plt.plot(X, Y, label='Original function')\n",
    "plt.plot(X, A * np.exp(B * X) + C, label='Approximation')\n",
    "plt.legend(loc='best')"
   ]
  },
  {
   "cell_type": "code",
   "execution_count": 260,
   "metadata": {
    "scrolled": true
   },
   "outputs": [
    {
     "name": "stdout",
     "output_type": "stream",
     "text": [
      "MSE = 0.392808422826987\n"
     ]
    }
   ],
   "source": [
    "print('MSE = {}'.format(sum(np.power(Y - (A * np.exp(B * X) + C), 2)) / X.shape[0]))"
   ]
  },
  {
   "cell_type": "markdown",
   "metadata": {},
   "source": [
    "## Built-in solution"
   ]
  },
  {
   "cell_type": "code",
   "execution_count": 277,
   "metadata": {},
   "outputs": [],
   "source": [
    "from scipy.optimize import curve_fit\n",
    "\n",
    "def func(x, a, b, c):\n",
    "    return a * np.exp(b * x) + c\n",
    "\n",
    "X = np.array([0, 1, 2, 3, 4, 5])\n",
    "Y = np.array([3.2, 7.8, 15.3, 23.6, 35.5, 47.5])\n",
    "\n",
    "[A, B, C], _ = curve_fit(func, X, Y)"
   ]
  },
  {
   "cell_type": "code",
   "execution_count": 282,
   "metadata": {},
   "outputs": [
    {
     "name": "stdout",
     "output_type": "stream",
     "text": [
      "MSE = 0.2558807045511247\n"
     ]
    }
   ],
   "source": [
    "print('MSE = {}'.format(sum(np.power(Y - (A * np.exp(B * X) + C), 2)) / X.shape[0]))"
   ]
  },
  {
   "cell_type": "code",
   "execution_count": 279,
   "metadata": {},
   "outputs": [
    {
     "name": "stdout",
     "output_type": "stream",
     "text": [
      "A = 23.568469258908642, B = 0.21393051694331658, C = -20.822510713824382\n"
     ]
    }
   ],
   "source": [
    "print('A = {}, B = {}, C = {}'.format(A, B, C))"
   ]
  },
  {
   "cell_type": "code",
   "execution_count": 281,
   "metadata": {},
   "outputs": [
    {
     "data": {
      "text/plain": [
       "<matplotlib.legend.Legend at 0x7fb3f799c090>"
      ]
     },
     "execution_count": 281,
     "metadata": {},
     "output_type": "execute_result"
    },
    {
     "data": {
      "image/png": "[encoded data removed]",
      "text/plain": [
       "<Figure size 432x288 with 1 Axes>"
      ]
     },
     "metadata": {
      "needs_background": "light"
     },
     "output_type": "display_data"
    }
   ],
   "source": [
    "plt.title('Function plot')\n",
    "plt.xlabel('x')\n",
    "plt.ylabel('y')\n",
    "plt.plot(X, Y, label='Original function')\n",
    "plt.plot(X, A * np.exp(B * X) + C, label='Approximation')\n",
    "plt.legend(loc='best')"
   ]
  },
  {
   "cell_type": "code",
   "execution_count": null,
   "metadata": {},
   "outputs": [],
   "source": []
  }
 ],
 "metadata": {
  "kernelspec": {
   "display_name": "Python 3",
   "language": "python",
   "name": "python3"
  },
  "language_info": {
   "codemirror_mode": {
    "name": "ipython",
    "version": 3
   },
   "file_extension": ".py",
   "mimetype": "text/x-python",
   "name": "python",
   "nbconvert_exporter": "python",
   "pygments_lexer": "ipython3",
   "version": "3.7.5"
  }
 },
 "nbformat": 4,
 "nbformat_minor": 2
}
