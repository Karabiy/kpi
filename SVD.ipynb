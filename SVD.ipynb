{
 "cells": [
  {
   "cell_type": "code",
   "execution_count": 1,
   "metadata": {},
   "outputs": [],
   "source": [
    "import numpy as np\n",
    "import scipy.linalg as lin"
   ]
  },
  {
   "cell_type": "code",
   "execution_count": 640,
   "metadata": {},
   "outputs": [],
   "source": [
    "A = np.matrix([\n",
    "    [3, 2, 1],\n",
    "    [1, 6, 2],\n",
    "    [5, 2, 3],\n",
    "    [4, 2, 1]\n",
    "])\n",
    "\n",
    "b = np.matrix([\n",
    "    15,\n",
    "    16,\n",
    "    17,\n",
    "    15\n",
    "])"
   ]
  },
  {
   "cell_type": "code",
   "execution_count": 673,
   "metadata": {},
   "outputs": [],
   "source": [
    "def SVD(matrix):\n",
    "    matrix = np.array(matrix)\n",
    "    transp_matrix = matrix.T\n",
    "    gram_matrix = np.dot(transp_matrix, matrix)\n",
    "    \n",
    "    [eigenvalues, eigenvector] = lin.eig(gram_matrix)\n",
    "    \n",
    "    eigenvalues = list(map(lambda x: x.real, eigenvalues))\n",
    "        \n",
    "    L = np.eye(len(eigenvalues)) * np.sqrt(eigenvalues)\n",
    "    \n",
    "    eigenvector = eigenvector.T\n",
    "    \n",
    "    V = np.matrix(eigenvector)\n",
    "    \n",
    "    norms = []\n",
    "    \n",
    "    for vec in eigenvector:\n",
    "        norm = np.dot(matrix, vec) / lin.norm(np.dot(matrix, vec))\n",
    "        norms.append(list(norm))\n",
    "    \n",
    "    kernel_orth = list(map(lambda x: x[0],lin.null_space(transp_matrix)))\n",
    "    \n",
    "    print(kernel_orth)\n",
    "\n",
    "    norms.append(kernel_orth)\n",
    "    \n",
    "    U = np.matrix(norms)\n",
    "    \n",
    "    return U, L, V"
   ]
  },
  {
   "cell_type": "code",
   "execution_count": 674,
   "metadata": {},
   "outputs": [
    {
     "name": "stdout",
     "output_type": "stream",
     "text": [
      "[-0.8288038898620514, 0.07893370379638599, 0.03946685189819271, 0.552535926574701]\n"
     ]
    }
   ],
   "source": [
    "u, l, v = SVD(A)"
   ]
  },
  {
   "cell_type": "code",
   "execution_count": 669,
   "metadata": {},
   "outputs": [],
   "source": [
    "diag = np.zeros((v.shape[0], u.shape[0]))\n",
    "for idx, sing in enumerate(np.diag(l)):\n",
    "    diag[idx][idx] = 1 / sing"
   ]
  },
  {
   "cell_type": "code",
   "execution_count": 670,
   "metadata": {},
   "outputs": [
    {
     "data": {
      "text/plain": [
       "matrix([[ 3.0529595 ],\n",
       "        [ 2.55140187],\n",
       "        [-1.09345794]])"
      ]
     },
     "execution_count": 670,
     "metadata": {},
     "output_type": "execute_result"
    }
   ],
   "source": [
    "X = v.T * diag * u * b.T\n",
    "X"
   ]
  },
  {
   "cell_type": "code",
   "execution_count": 648,
   "metadata": {},
   "outputs": [],
   "source": [
    "r = b.T - A * X"
   ]
  },
  {
   "cell_type": "code",
   "execution_count": 649,
   "metadata": {},
   "outputs": [
    {
     "data": {
      "text/plain": [
       "2.210143706298802"
      ]
     },
     "execution_count": 649,
     "metadata": {},
     "output_type": "execute_result"
    }
   ],
   "source": [
    "lin.norm(r)"
   ]
  },
  {
   "cell_type": "code",
   "execution_count": null,
   "metadata": {},
   "outputs": [],
   "source": [
    "# Built-in function"
   ]
  },
  {
   "cell_type": "code",
   "execution_count": 653,
   "metadata": {},
   "outputs": [],
   "source": [
    "u, l, v = lin.svd(A)\n",
    "diag = np.zeros((v.shape[0], u.shape[0]))\n",
    "for idx, sing in enumerate(l):\n",
    "    diag[idx][idx] = 1 / sing"
   ]
  },
  {
   "cell_type": "code",
   "execution_count": 656,
   "metadata": {},
   "outputs": [
    {
     "data": {
      "text/plain": [
       "matrix([[ 3.0529595 ],\n",
       "        [ 2.55140187],\n",
       "        [-1.09345794]])"
      ]
     },
     "execution_count": 656,
     "metadata": {},
     "output_type": "execute_result"
    }
   ],
   "source": [
    "X = np.matrix(v.T) * np.matrix(diag) * np.matrix(u.T) * b.T\n",
    "X"
   ]
  },
  {
   "cell_type": "code",
   "execution_count": 657,
   "metadata": {},
   "outputs": [],
   "source": [
    "r = b.T - A * X"
   ]
  },
  {
   "cell_type": "code",
   "execution_count": 658,
   "metadata": {},
   "outputs": [
    {
     "data": {
      "text/plain": [
       "2.2101437062988025"
      ]
     },
     "execution_count": 658,
     "metadata": {},
     "output_type": "execute_result"
    }
   ],
   "source": [
    "lin.norm(r)"
   ]
  },
  {
   "cell_type": "code",
   "execution_count": null,
   "metadata": {},
   "outputs": [],
   "source": []
  }
 ],
 "metadata": {
  "kernelspec": {
   "display_name": "Python 3",
   "language": "python",
   "name": "python3"
  },
  "language_info": {
   "codemirror_mode": {
    "name": "ipython",
    "version": 3
   },
   "file_extension": ".py",
   "mimetype": "text/x-python",
   "name": "python",
   "nbconvert_exporter": "python",
   "pygments_lexer": "ipython3",
   "version": "3.7.5"
  }
 },
 "nbformat": 4,
 "nbformat_minor": 2
}
