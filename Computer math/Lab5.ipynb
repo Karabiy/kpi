{
 "cells": [
  {
   "cell_type": "code",
   "execution_count": 4,
   "metadata": {},
   "outputs": [],
   "source": [
    "import pandas as pd\n",
    "from cvxopt.modeling import variable, op"
   ]
  },
  {
   "cell_type": "code",
   "execution_count": 57,
   "metadata": {},
   "outputs": [],
   "source": [
    "input_data = {\n",
    "    'N1': [1, 5, 10],\n",
    "    'N2': [3, 2, 12],\n",
    "    'N3': [2, 4, 16],\n",
    "    'N4': [2, 2, 10],\n",
    "    'N5': [1, 0, 1],\n",
    "    'price': [2, 3]\n",
    "}\n",
    "dataTable = pd.DataFrame.from_dict(input_data, orient='index', columns=['x1', 'x2', 'volume'])\n"
   ]
  },
  {
   "cell_type": "code",
   "execution_count": 58,
   "metadata": {},
   "outputs": [
    {
     "name": "stderr",
     "output_type": "stream",
     "text": [
      "/usr/local/lib/python3.7/dist-packages/ipykernel_launcher.py:2: SettingWithCopyWarning: \n",
      "A value is trying to be set on a copy of a slice from a DataFrame\n",
      "\n",
      "See the caveats in the documentation: http://pandas.pydata.org/pandas-docs/stable/user_guide/indexing.html#returning-a-view-versus-a-copy\n",
      "  \n"
     ]
    }
   ],
   "source": [
    "for column in dataTable.columns[:-1]:\n",
    "    dataTable[column][:-1] = dataTable[column][:-1] / sum(dataTable[column][:-1])"
   ]
  },
  {
   "cell_type": "code",
   "execution_count": 60,
   "metadata": {},
   "outputs": [
    {
     "data": {
      "text/html": [
       "<div>\n",
       "<style scoped>\n",
       "    .dataframe tbody tr th:only-of-type {\n",
       "        vertical-align: middle;\n",
       "    }\n",
       "\n",
       "    .dataframe tbody tr th {\n",
       "        vertical-align: top;\n",
       "    }\n",
       "\n",
       "    .dataframe thead th {\n",
       "        text-align: right;\n",
       "    }\n",
       "</style>\n",
       "<table border=\"1\" class=\"dataframe\">\n",
       "  <thead>\n",
       "    <tr style=\"text-align: right;\">\n",
       "      <th></th>\n",
       "      <th>x1</th>\n",
       "      <th>x2</th>\n",
       "      <th>volume</th>\n",
       "    </tr>\n",
       "  </thead>\n",
       "  <tbody>\n",
       "    <tr>\n",
       "      <th>N1</th>\n",
       "      <td>0.111111</td>\n",
       "      <td>0.384615</td>\n",
       "      <td>10.0</td>\n",
       "    </tr>\n",
       "    <tr>\n",
       "      <th>N2</th>\n",
       "      <td>0.333333</td>\n",
       "      <td>0.153846</td>\n",
       "      <td>12.0</td>\n",
       "    </tr>\n",
       "    <tr>\n",
       "      <th>N3</th>\n",
       "      <td>0.222222</td>\n",
       "      <td>0.307692</td>\n",
       "      <td>16.0</td>\n",
       "    </tr>\n",
       "    <tr>\n",
       "      <th>N4</th>\n",
       "      <td>0.222222</td>\n",
       "      <td>0.153846</td>\n",
       "      <td>10.0</td>\n",
       "    </tr>\n",
       "    <tr>\n",
       "      <th>N5</th>\n",
       "      <td>0.111111</td>\n",
       "      <td>0.000000</td>\n",
       "      <td>1.0</td>\n",
       "    </tr>\n",
       "    <tr>\n",
       "      <th>price</th>\n",
       "      <td>2.000000</td>\n",
       "      <td>3.000000</td>\n",
       "      <td>NaN</td>\n",
       "    </tr>\n",
       "  </tbody>\n",
       "</table>\n",
       "</div>"
      ],
      "text/plain": [
       "             x1        x2  volume\n",
       "N1     0.111111  0.384615    10.0\n",
       "N2     0.333333  0.153846    12.0\n",
       "N3     0.222222  0.307692    16.0\n",
       "N4     0.222222  0.153846    10.0\n",
       "N5     0.111111  0.000000     1.0\n",
       "price  2.000000  3.000000     NaN"
      ]
     },
     "execution_count": 60,
     "metadata": {},
     "output_type": "execute_result"
    }
   ],
   "source": [
    "dataTable"
   ]
  },
  {
   "cell_type": "code",
   "execution_count": 108,
   "metadata": {},
   "outputs": [],
   "source": [
    "x = variable(2, 'x')\n",
    "z = -(30*x[0] +1*x[1])"
   ]
  },
  {
   "cell_type": "code",
   "execution_count": 27,
   "metadata": {},
   "outputs": [],
   "source": [
    "z = -1 * sum([productValue * x[i] for i, productValue in enumerate(input_data['price'])])"
   ]
  },
  {
   "cell_type": "code",
   "execution_count": 139,
   "metadata": {},
   "outputs": [
    {
     "name": "stdout",
     "output_type": "stream",
     "text": [
      "0.11*x0 + 0.38*x1 <= 10.0\n",
      "0.33*x0 + 0.15*x1 <= 12.0\n",
      "0.22*x0 + 0.31*x1 <= 16.0\n",
      "0.22*x0 + 0.15*x1 <= 10.0\n",
      "0.11*x0 + 0.0*x1 <= 1.0\n"
     ]
    }
   ],
   "source": [
    "limitations = []\n",
    "for componentNumber in range(dataTable.shape[0] - 1):\n",
    "    equation = []\n",
    "    cond = ''\n",
    "    for i, componentFraction in enumerate(dataTable.iloc[componentNumber, :-1]):\n",
    "        cond += '{}*x{} + '.format(round(componentFraction, 2), i)\n",
    "        equation.append(componentFraction * x[i])\n",
    "    cond = cond[:-3] + ' <= {}'.format(dataTable.iloc[componentNumber, -1])\n",
    "    print(cond)\n",
    "    eq = sum(equation) <= int(dataTable.iloc[componentNumber, -1])\n",
    "    limitations.append(eq)"
   ]
  },
  {
   "cell_type": "code",
   "execution_count": 125,
   "metadata": {},
   "outputs": [],
   "source": [
    "problem = op(z, limitations)\n",
    "problem.solve(solver='glpk')"
   ]
  },
  {
   "cell_type": "code",
   "execution_count": 131,
   "metadata": {},
   "outputs": [
    {
     "name": "stdout",
     "output_type": "stream",
     "text": [
      "[ 9.00e+00]\n",
      "[ 2.34e+01]\n",
      "\n"
     ]
    }
   ],
   "source": [
    "print(x.value)"
   ]
  },
  {
   "cell_type": "code",
   "execution_count": 134,
   "metadata": {},
   "outputs": [
    {
     "data": {
      "text/plain": [
       "88.19999999999999"
      ]
     },
     "execution_count": 134,
     "metadata": {},
     "output_type": "execute_result"
    }
   ],
   "source": [
    "2 * x.value[0] + 3 * x.value[1]"
   ]
  },
  {
   "cell_type": "code",
   "execution_count": null,
   "metadata": {},
   "outputs": [],
   "source": []
  }
 ],
 "metadata": {
  "kernelspec": {
   "display_name": "Python 3",
   "language": "python",
   "name": "python3"
  },
  "language_info": {
   "codemirror_mode": {
    "name": "ipython",
    "version": 3
   },
   "file_extension": ".py",
   "mimetype": "text/x-python",
   "name": "python",
   "nbconvert_exporter": "python",
   "pygments_lexer": "ipython3",
   "version": "3.7.5"
  }
 },
 "nbformat": 4,
 "nbformat_minor": 2
}
