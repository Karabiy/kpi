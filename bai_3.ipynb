{
 "cells": [
  {
   "cell_type": "code",
   "execution_count": 8,
   "metadata": {},
   "outputs": [
    {
     "data": {
      "text/html": [
       "<div>\n",
       "<style scoped>\n",
       "    .dataframe tbody tr th:only-of-type {\n",
       "        vertical-align: middle;\n",
       "    }\n",
       "\n",
       "    .dataframe tbody tr th {\n",
       "        vertical-align: top;\n",
       "    }\n",
       "\n",
       "    .dataframe thead th {\n",
       "        text-align: right;\n",
       "    }\n",
       "</style>\n",
       "<table border=\"1\" class=\"dataframe\">\n",
       "  <thead>\n",
       "    <tr style=\"text-align: right;\">\n",
       "      <th></th>\n",
       "      <th>x</th>\n",
       "      <th>y</th>\n",
       "      <th>z</th>\n",
       "    </tr>\n",
       "  </thead>\n",
       "  <tbody>\n",
       "    <tr>\n",
       "      <th>0</th>\n",
       "      <td>2.0</td>\n",
       "      <td>1.000000</td>\n",
       "      <td>-2.000000</td>\n",
       "    </tr>\n",
       "    <tr>\n",
       "      <th>1</th>\n",
       "      <td>2.2</td>\n",
       "      <td>0.488600</td>\n",
       "      <td>-3.175600</td>\n",
       "    </tr>\n",
       "    <tr>\n",
       "      <th>2</th>\n",
       "      <td>2.4</td>\n",
       "      <td>-0.298266</td>\n",
       "      <td>-4.773720</td>\n",
       "    </tr>\n",
       "    <tr>\n",
       "      <th>3</th>\n",
       "      <td>2.6</td>\n",
       "      <td>-1.457506</td>\n",
       "      <td>-6.923826</td>\n",
       "    </tr>\n",
       "    <tr>\n",
       "      <th>4</th>\n",
       "      <td>2.8</td>\n",
       "      <td>-3.115438</td>\n",
       "      <td>-9.792000</td>\n",
       "    </tr>\n",
       "    <tr>\n",
       "      <th>5</th>\n",
       "      <td>3.0</td>\n",
       "      <td>-5.436057</td>\n",
       "      <td>-13.590811</td>\n",
       "    </tr>\n",
       "    <tr>\n",
       "      <th>6</th>\n",
       "      <td>3.2</td>\n",
       "      <td>-8.631535</td>\n",
       "      <td>-18.591750</td>\n",
       "    </tr>\n",
       "    <tr>\n",
       "      <th>7</th>\n",
       "      <td>3.4</td>\n",
       "      <td>-12.975505</td>\n",
       "      <td>-25.140913</td>\n",
       "    </tr>\n",
       "    <tr>\n",
       "      <th>8</th>\n",
       "      <td>3.6</td>\n",
       "      <td>-18.819886</td>\n",
       "      <td>-33.678714</td>\n",
       "    </tr>\n",
       "    <tr>\n",
       "      <th>9</th>\n",
       "      <td>3.8</td>\n",
       "      <td>-26.616125</td>\n",
       "      <td>-44.764698</td>\n",
       "    </tr>\n",
       "    <tr>\n",
       "      <th>10</th>\n",
       "      <td>4.0</td>\n",
       "      <td>-36.942026</td>\n",
       "      <td>-59.108694</td>\n",
       "    </tr>\n",
       "  </tbody>\n",
       "</table>\n",
       "</div>"
      ],
      "text/plain": [
       "      x          y          z\n",
       "0   2.0   1.000000  -2.000000\n",
       "1   2.2   0.488600  -3.175600\n",
       "2   2.4  -0.298266  -4.773720\n",
       "3   2.6  -1.457506  -6.923826\n",
       "4   2.8  -3.115438  -9.792000\n",
       "5   3.0  -5.436057 -13.590811\n",
       "6   3.2  -8.631535 -18.591750\n",
       "7   3.4 -12.975505 -25.140913\n",
       "8   3.6 -18.819886 -33.678714\n",
       "9   3.8 -26.616125 -44.764698\n",
       "10  4.0 -36.942026 -59.108694"
      ]
     },
     "execution_count": 8,
     "metadata": {},
     "output_type": "execute_result"
    }
   ],
   "source": [
    "import numpy as np\n",
    "from matplotlib.pylab import plt\n",
    "from math import exp\n",
    "import numpy as np\n",
    "import pandas as pd\n",
    "\n",
    "    \n",
    "def solve():\n",
    "    \n",
    "    def f(x, y, z):\n",
    "        return z\n",
    "    \n",
    "    def g(x, y, z):\n",
    "        return 2 * z - y\n",
    "\n",
    "    a = 2\n",
    "    b = 4\n",
    "\n",
    "    h = 0.2\n",
    "    i = 0\n",
    "\n",
    "    x = [2]\n",
    "    z = [-2]\n",
    "    y = [1]\n",
    "\n",
    "    def K_0(i):\n",
    "        return h * f(x[i], y[i], z[i])\n",
    "\n",
    "    def L_0(i):\n",
    "        return h * g(x[i], y[i], z[i])\n",
    "\n",
    "    def K_1(i):\n",
    "        return h * f(x[i] + h/2, y[i] + K_0(i)/2, z[i] + L_0(i)/2)\n",
    "\n",
    "    def L_1(i):\n",
    "        return h * g(x[i] + h/2, y[i] + K_0(i)/2, z[i] + L_0(i)/2)\n",
    "\n",
    "    def K_2(i):\n",
    "        return h * f(x[i] + h/2, y[i] + K_1(i)/2, z[i] + L_1(i)/2)\n",
    "\n",
    "    def L_2(i):\n",
    "        return h * g(x[i] + h/2, y[i] + K_1(i)/2, z[i] + L_1(i)/2)\n",
    "\n",
    "    def K_3(i):\n",
    "        return h * f(x[i] + h, y[i] + K_2(i), z[i] + L_2(i))\n",
    "\n",
    "    def L_3(i):\n",
    "        return h * g(x[i] + h, y[i] + K_2(i), z[i] + L_2(i))\n",
    "\n",
    "    def step(i):\n",
    "        x.append(x[i] + h)\n",
    "        y.append(y[i] + 1/6 * (K_0(i) + 2 * K_1(i) + 2 * K_2(i) + K_3(i)))\n",
    "        z.append(z[i] + 1/6 * (L_0(i) + 2 * L_1(i) + 2 * L_2(i) + L_3(i)))\n",
    "    \n",
    "    while (x[-1] < b):\n",
    "        step(i)\n",
    "        i += 1\n",
    "    \n",
    "    \n",
    "    return x, y, z\n",
    "\n",
    "x, y, z = solve()\n",
    "\n",
    "df = pd.DataFrame.from_dict({ 'x': x, 'y': y, 'z': z })\n",
    "\n",
    "df"
   ]
  },
  {
   "cell_type": "markdown",
   "metadata": {},
   "source": [
    "## Built-in solution"
   ]
  },
  {
   "cell_type": "code",
   "execution_count": 9,
   "metadata": {},
   "outputs": [
    {
     "data": {
      "text/plain": [
       "array([[  1.        ,  -2.        ],\n",
       "       [  0.48856109,  -3.1756472 ],\n",
       "       [ -0.29836498,  -4.77383909],\n",
       "       [ -1.45769511,  -6.92405153],\n",
       "       [ -3.1157574 ,  -9.79238021],\n",
       "       [ -5.4365638 , -13.59140932],\n",
       "       [ -8.63230417, -18.59265498],\n",
       "       [-12.97664012, -25.14224007],\n",
       "       [-18.82152352, -33.68062086],\n",
       "       [-26.61844931, -44.76739179],\n",
       "       [-36.94528104, -59.11244944]])"
      ]
     },
     "execution_count": 9,
     "metadata": {},
     "output_type": "execute_result"
    }
   ],
   "source": [
    "from scipy.integrate import odeint\n",
    "\n",
    "def func(y, z):\n",
    "    return 2 * z - y\n",
    "\n",
    "def model(y, t):\n",
    "    u, v = y\n",
    "    return [ v, func(u, v) ]\n",
    "\n",
    "z2 = odeint(model, [1, -2], x)\n",
    "z2"
   ]
  },
  {
   "cell_type": "code",
   "execution_count": 3,
   "metadata": {},
   "outputs": [
    {
     "data": {
      "image/png": "[encoded data removed]",
      "text/plain": [
       "<Figure size 432x288 with 1 Axes>"
      ]
     },
     "metadata": {
      "needs_background": "light"
     },
     "output_type": "display_data"
    }
   ],
   "source": [
    "plt.title('Solution plot')\n",
    "plt.xlabel('x')\n",
    "plt.ylabel('y')\n",
    "plt.plot(x, y, label='My method')\n",
    "plt.plot(x, z2.T[0], label='Built-in method')\n",
    "plt.legend(loc='best')\n",
    "plt.show()"
   ]
  },
  {
   "cell_type": "code",
   "execution_count": 10,
   "metadata": {},
   "outputs": [
    {
     "data": {
      "image/png": "[encoded data removed]",
      "text/plain": [
       "<Figure size 432x288 with 1 Axes>"
      ]
     },
     "metadata": {
      "needs_background": "light"
     },
     "output_type": "display_data"
    }
   ],
   "source": [
    "plt.title('Solution plot')\n",
    "plt.xlabel('x')\n",
    "plt.ylabel('z')\n",
    "plt.plot(x, z, label='My method')\n",
    "plt.plot(x, z2.T[1], label='Built-in method')\n",
    "plt.legend(loc='best')\n",
    "plt.show()"
   ]
  },
  {
   "cell_type": "code",
   "execution_count": 4,
   "metadata": {},
   "outputs": [
    {
     "name": "stdout",
     "output_type": "stream",
     "text": [
      "eps = 1.9059319089358689e-06\n"
     ]
    }
   ],
   "source": [
    "print('eps = {}'.format(sum(np.power(z2.T[0] - y, 2)) / len(x)))"
   ]
  },
  {
   "cell_type": "code",
   "execution_count": null,
   "metadata": {},
   "outputs": [],
   "source": []
  }
 ],
 "metadata": {
  "kernelspec": {
   "display_name": "Python 3",
   "language": "python",
   "name": "python3"
  },
  "language_info": {
   "codemirror_mode": {
    "name": "ipython",
    "version": 3
   },
   "file_extension": ".py",
   "mimetype": "text/x-python",
   "name": "python",
   "nbconvert_exporter": "python",
   "pygments_lexer": "ipython3",
   "version": "3.7.5"
  }
 },
 "nbformat": 4,
 "nbformat_minor": 2
}
